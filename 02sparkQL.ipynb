{
 "cells": [
  {
   "cell_type": "markdown",
   "id": "2be26424-6deb-4e91-abc6-7880de9a6ac7",
   "metadata": {},
   "source": [
    "# spark dataset"
   ]
  },
  {
   "cell_type": "markdown",
   "id": "bd021764-b63d-41b6-8479-6fd328cfce4b",
   "metadata": {},
   "source": [
    "# 스파크 중요 개념 : RDD, dataframe\n",
    "* RDD (Resillient Distributed Data) : 탄력적이고 분산된 데이터셋\n",
    "* HDFS와는 달리 쓰기 불가능 데이터셋\n",
    "* 다양한 연산(map, reduce, count, filter, join) 수행 가능\n",
    "* 작업은 lazy하게 병렬로 수행되고 메모리에 저장됨"
   ]
  },
  {
   "cell_type": "markdown",
   "id": "32236793-494e-467e-a7b6-6380d42cde48",
   "metadata": {},
   "source": [
    "# History of Spark API\n",
    "* RDD   (2011)  : v1 부터 지원, 분산 데이터셋,연산을 제어하는 코드 작성이 어려움\n",
    "* dataframe (2013) : v1.3부터 지원, 데이터를 스키마형태로 추상화, 속도 개선\n",
    "* dataset (2015) : v1.6부터 지원, 데이터의 자료형 검사, 직렬화 지원\n",
    "* dataset (2016) : v2.0부터 지원, dataframe과 dataset을 dataset으로 통합\n",
    "* 스파크 애플리케이션 개발 : RDD 이용, SparkContext 사용\n",
    "* SQL on Spark : dataset,dataframe 이용, SparkSession 사용"
   ]
  },
  {
   "cell_type": "markdown",
   "id": "a48a43aa-56b2-4701-b67b-be334f12bccc",
   "metadata": {},
   "source": [
    "## RDD를 이용해서 데이터프레임 생성"
   ]
  },
  {
   "cell_type": "code",
   "execution_count": 8,
   "id": "4542b843-7657-404d-b422-eaf0c7b17964",
   "metadata": {},
   "outputs": [
    {
     "data": {
      "text/html": [
       "\n",
       "        <div>\n",
       "            <p><b>SparkContext</b></p>\n",
       "\n",
       "            <p><a href=\"http://hadoop:4041\">Spark UI</a></p>\n",
       "\n",
       "            <dl>\n",
       "              <dt>Version</dt>\n",
       "                <dd><code>v3.2.1</code></dd>\n",
       "              <dt>Master</dt>\n",
       "                <dd><code>local[*]</code></dd>\n",
       "              <dt>AppName</dt>\n",
       "                <dd><code>PySparkShell</code></dd>\n",
       "            </dl>\n",
       "        </div>\n",
       "        "
      ],
      "text/plain": [
       "<SparkContext master=local[*] appName=PySparkShell>"
      ]
     },
     "execution_count": 8,
     "metadata": {},
     "output_type": "execute_result"
    }
   ],
   "source": [
    "sc"
   ]
  },
  {
   "cell_type": "code",
   "execution_count": 1,
   "id": "7ef333cf-d1d2-4540-8375-e1e592694d0d",
   "metadata": {},
   "outputs": [],
   "source": [
    "from pyspark.sql.types import StringType, IntegerType"
   ]
  },
  {
   "cell_type": "code",
   "execution_count": 2,
   "id": "3dc8cc19-954c-4b18-956c-d29ea7ed89eb",
   "metadata": {},
   "outputs": [
    {
     "data": {
      "text/plain": [
       "['apple', 'peach', 'banana', 'mango', 'pineapple']"
      ]
     },
     "execution_count": 2,
     "metadata": {},
     "output_type": "execute_result"
    }
   ],
   "source": [
    "# 리스트를 이용해서 데이터프레임 만들기\n",
    "# 리스트로 RDD 객체 생성\n",
    "data = ['apple','peach','banana','mango','pineapple']\n",
    "words = sc.parallelize(data)\n",
    "words.collect()"
   ]
  },
  {
   "cell_type": "code",
   "execution_count": 3,
   "id": "2da07838-485a-4cfa-a2e9-949eaacc1e9b",
   "metadata": {},
   "outputs": [
    {
     "name": "stdout",
     "output_type": "stream",
     "text": [
      "+---------+\n",
      "|    value|\n",
      "+---------+\n",
      "|    apple|\n",
      "|    peach|\n",
      "|   banana|\n",
      "|    mango|\n",
      "|pineapple|\n",
      "+---------+\n",
      "\n"
     ]
    }
   ],
   "source": [
    "# RDD 객체를 데이터프레임으로 만들기\n",
    "# 데이터프레임 : 행과 열로 구성된 2차원 데이터객체\n",
    "# createDataFrame(RDD객체, 타입)\n",
    "df = spark.createDataFrame(words, StringType())\n",
    "df.show()       # 데이터프레임 내용 출력"
   ]
  },
  {
   "cell_type": "code",
   "execution_count": 6,
   "id": "8fe6626a-6a5d-4831-9c39-f649090a0e70",
   "metadata": {},
   "outputs": [
    {
     "data": {
      "text/plain": [
       "[Row(fruit='apple', price=1500),\n",
       " Row(fruit='peach', price=2000),\n",
       " Row(fruit='banana', price=1500),\n",
       " Row(fruit='mango', price=2500),\n",
       " Row(fruit='pineapple', price=3000)]"
      ]
     },
     "execution_count": 6,
     "metadata": {},
     "output_type": "execute_result"
    }
   ],
   "source": [
    "# 리스트 객체를 데이터프레임으로 만들기 - (과일명, 가격)\n",
    "# 데이터프레임 생성시 컬럼명 지정\n",
    "data =  [('apple', 1500), ('peach', 2000),('banana', 1500), ('mango', 2500),('pineapple', 3000)]\n",
    "fruits = spark.createDataFrame(data, ['fruit','price'])\n",
    "fruits.collect()"
   ]
  },
  {
   "cell_type": "code",
   "execution_count": 7,
   "id": "f24d8ecc-a780-44b5-ad2a-daaefbf6cbfd",
   "metadata": {},
   "outputs": [
    {
     "name": "stdout",
     "output_type": "stream",
     "text": [
      "+---------+-----+\n",
      "|    fruit|price|\n",
      "+---------+-----+\n",
      "|    apple| 1500|\n",
      "|    peach| 2000|\n",
      "|   banana| 1500|\n",
      "|    mango| 2500|\n",
      "|pineapple| 3000|\n",
      "+---------+-----+\n",
      "\n"
     ]
    }
   ],
   "source": [
    "fruits.show()"
   ]
  },
  {
   "cell_type": "code",
   "execution_count": 11,
   "id": "f3ff703b-5f5e-485e-a887-cb3bd97905e4",
   "metadata": {},
   "outputs": [
    {
     "data": {
      "text/plain": [
       "[Row(fruit='apple', price=1500),\n",
       " Row(fruit='peach', price=2000),\n",
       " Row(fruit='banana', price=1500),\n",
       " Row(fruit='mango', price=2500),\n",
       " Row(fruit='pineapple', price=3000)]"
      ]
     },
     "execution_count": 11,
     "metadata": {},
     "output_type": "execute_result"
    }
   ],
   "source": [
    "# 리스트 객체를 데이터프레임으로 만들기 2\n",
    "# 데이터프레임 생성시 컬럼명과 자료형 지정 (컬럼명:자료형)\n",
    "\n",
    "fruits = spark.createDataFrame(data, \"fruit:string, price:int\")\n",
    "fruits.collect()"
   ]
  },
  {
   "cell_type": "code",
   "execution_count": 13,
   "id": "31f18db0-8f6e-462f-a73a-ee70584124d9",
   "metadata": {},
   "outputs": [
    {
     "name": "stdout",
     "output_type": "stream",
     "text": [
      "+---------+\n",
      "|    fruit|\n",
      "+---------+\n",
      "|    apple|\n",
      "|    peach|\n",
      "|   banana|\n",
      "|    mango|\n",
      "|pineapple|\n",
      "+---------+\n",
      "\n"
     ]
    }
   ],
   "source": [
    "# 데이터프레임에서 컬럼 조회 : select(컬럼명)\n",
    "fruits.select('fruit').show()"
   ]
  },
  {
   "cell_type": "markdown",
   "id": "e97d47dd-a9da-4c5a-88bc-65608d616395",
   "metadata": {},
   "source": [
    "# 스파크세션을 이용한 고급 데이터프레임 다루기"
   ]
  },
  {
   "cell_type": "code",
   "execution_count": 14,
   "id": "3b110e75-7e62-423a-ba87-188fedee54cc",
   "metadata": {},
   "outputs": [],
   "source": [
    "from pyspark.sql import SparkSession\n",
    "from pyspark.sql.types import StructType"
   ]
  },
  {
   "cell_type": "code",
   "execution_count": 15,
   "id": "81375c51-4570-4caf-a2f7-dc1f920dcead",
   "metadata": {},
   "outputs": [],
   "source": [
    "# 데이터프레임 스키마 정의 - employees\n",
    "# 스파크 세션 객체 직접 생성\n",
    "spqrk = SparkSession.builder.appName('emp').getOrCreate()"
   ]
  },
  {
   "cell_type": "code",
   "execution_count": 16,
   "id": "43fccb4e-b235-4f91-9fb0-a65cf7715634",
   "metadata": {},
   "outputs": [],
   "source": [
    "# 데이터프레임 생성전 스키마 정의\n",
    "# add(컬럼명, 데이터타입)\n",
    "emp_schema = StructType().add('empno','integer').add('fname','string')\\\n",
    ".add('lname','string').add('hdate','string').add('sal','integer')\\\n",
    ".add('deptid','integer')"
   ]
  },
  {
   "cell_type": "code",
   "execution_count": 17,
   "id": "3003f30e-467d-44e3-90ce-26bcf6e3aa66",
   "metadata": {},
   "outputs": [],
   "source": [
    "# 지정한 스키마를 이용해서 데이터프레임 생성\n",
    "# 데이터프레임의 각 행은 set 객체로 정의\n",
    "# 위에서 정의한 스키마는 schema 속성으로 지정\n",
    "df = spark.createDataFrame(\n",
    "   [(123,'steve','king','2003-06-17',35000,None),\n",
    "   (456,'john','seo','2005-12-15',20000,50),\n",
    "   (789,'david',None,'2004-03-01',22000,90)], \n",
    "   schema=emp_schema)"
   ]
  },
  {
   "cell_type": "code",
   "execution_count": 18,
   "id": "e7c9c8a1-89a0-4021-8c4b-67f952248e11",
   "metadata": {},
   "outputs": [
    {
     "name": "stdout",
     "output_type": "stream",
     "text": [
      "+-----+-----+-----+----------+-----+------+\n",
      "|empno|fname|lname|     hdate|  sal|deptid|\n",
      "+-----+-----+-----+----------+-----+------+\n",
      "|  123|steve| king|2003-06-17|35000|  null|\n",
      "|  456| john|  seo|2005-12-15|20000|    50|\n",
      "|  789|david| null|2004-03-01|22000|    90|\n",
      "+-----+-----+-----+----------+-----+------+\n",
      "\n"
     ]
    }
   ],
   "source": [
    "# 데이터프레임 내용 확인\n",
    "df.show()"
   ]
  },
  {
   "cell_type": "code",
   "execution_count": 19,
   "id": "5d6c8aac-5688-46cc-9c04-3990f7db6ca2",
   "metadata": {},
   "outputs": [
    {
     "name": "stdout",
     "output_type": "stream",
     "text": [
      "root\n",
      " |-- empno: integer (nullable = true)\n",
      " |-- fname: string (nullable = true)\n",
      " |-- lname: string (nullable = true)\n",
      " |-- hdate: string (nullable = true)\n",
      " |-- sal: integer (nullable = true)\n",
      " |-- deptid: integer (nullable = true)\n",
      "\n"
     ]
    }
   ],
   "source": [
    "# 데이터프레임 스키마 확인\n",
    "df.printSchema()"
   ]
  },
  {
   "cell_type": "code",
   "execution_count": 20,
   "id": "8cfdc661-4b37-4ca7-8b56-a7b9f054f8da",
   "metadata": {},
   "outputs": [
    {
     "data": {
      "text/plain": [
       "3"
      ]
     },
     "execution_count": 20,
     "metadata": {},
     "output_type": "execute_result"
    }
   ],
   "source": [
    "# 데이터프레임 갯수 출력\n",
    "df.count()"
   ]
  },
  {
   "cell_type": "code",
   "execution_count": 21,
   "id": "bbd780db-aac7-4e48-b0c5-a33799ba7fcd",
   "metadata": {},
   "outputs": [
    {
     "name": "stdout",
     "output_type": "stream",
     "text": [
      "+-------+-----+-----+-----+----------+------------------+------------------+\n",
      "|summary|empno|fname|lname|     hdate|               sal|            deptid|\n",
      "+-------+-----+-----+-----+----------+------------------+------------------+\n",
      "|  count|    3|    3|    2|         3|                 3|                 2|\n",
      "|   mean|456.0| null| null|      null|25666.666666666668|              70.0|\n",
      "| stddev|333.0| null| null|      null| 8144.527815247077|28.284271247461902|\n",
      "|    min|  123|david| king|2003-06-17|             20000|                50|\n",
      "|    25%|  123| null| null|      null|             20000|                50|\n",
      "|    50%|  456| null| null|      null|             22000|                50|\n",
      "|    75%|  789| null| null|      null|             35000|                90|\n",
      "|    max|  789|steve|  seo|2005-12-15|             35000|                90|\n",
      "+-------+-----+-----+-----+----------+------------------+------------------+\n",
      "\n"
     ]
    }
   ],
   "source": [
    "# 데이터프레임 요약 보기\n",
    "# summary(요약항목)\n",
    "df.summary().show()"
   ]
  },
  {
   "cell_type": "code",
   "execution_count": 22,
   "id": "ef917f91-0184-433c-a8c5-8d1f66bcfd42",
   "metadata": {},
   "outputs": [
    {
     "name": "stdout",
     "output_type": "stream",
     "text": [
      "+-------+-----+------------------+------------------+\n",
      "|summary|empno|               sal|            deptid|\n",
      "+-------+-----+------------------+------------------+\n",
      "|  count|    3|                 3|                 2|\n",
      "|   mean|456.0|25666.666666666668|              70.0|\n",
      "| stddev|333.0| 8144.527815247077|28.284271247461902|\n",
      "|    min|  123|             20000|                50|\n",
      "|    25%|  123|             20000|                50|\n",
      "|    50%|  456|             22000|                50|\n",
      "|    75%|  789|             35000|                90|\n",
      "|    max|  789|             35000|                90|\n",
      "+-------+-----+------------------+------------------+\n",
      "\n"
     ]
    }
   ],
   "source": [
    "# 특정컬럼에 대한 요약정보 보기\n",
    "# select(대상컬럼들)\n",
    "df.select('empno','sal','deptid').summary().show()"
   ]
  },
  {
   "cell_type": "code",
   "execution_count": 25,
   "id": "ec26fd1b-1aa6-4604-8329-6d1ae1b90e83",
   "metadata": {},
   "outputs": [],
   "source": [
    "# csv파일로 데이터프레임 생성하기\n",
    "# read.csv(파일이름, 헤더여부, 스키마여부)\n",
    "emp = spark.read.csv('EMPLOYEES.csv', header = True, inferSchema=True)"
   ]
  },
  {
   "cell_type": "code",
   "execution_count": 27,
   "id": "65f0bd52-b531-4ac6-8e2e-bc0ffa935fa1",
   "metadata": {},
   "outputs": [
    {
     "name": "stdout",
     "output_type": "stream",
     "text": [
      "root\n",
      " |-- EMPLOYEE_ID: integer (nullable = true)\n",
      " |-- FIRST_NAME: string (nullable = true)\n",
      " |-- LAST_NAME: string (nullable = true)\n",
      " |-- EMAIL: string (nullable = true)\n",
      " |-- PHONE_NUMBER: string (nullable = true)\n",
      " |-- HIRE_DATE: string (nullable = true)\n",
      " |-- JOB_ID: string (nullable = true)\n",
      " |-- SALARY: integer (nullable = true)\n",
      " |-- COMMISSION_PCT: double (nullable = true)\n",
      " |-- MANAGER_ID: integer (nullable = true)\n",
      " |-- DEPARTMENT_ID: integer (nullable = true)\n",
      "\n"
     ]
    }
   ],
   "source": [
    "emp.printSchema()"
   ]
  },
  {
   "cell_type": "markdown",
   "id": "8bc7648d-6e8c-4aba-832d-272b1d22d164",
   "metadata": {},
   "source": [
    "## 데이터프레임 데이터 탐색\n",
    "+ select : 컬럼 선택\n",
    "+ filter : 조건 검색\n",
    "+ where : 고급 조건 검색\n",
    "+ orderBy : 정렬\n",
    "+ groupBy : 그룹화"
   ]
  },
  {
   "cell_type": "code",
   "execution_count": 29,
   "id": "e398c2a6-6c9d-4fe5-9c2a-dc6733706afd",
   "metadata": {},
   "outputs": [
    {
     "name": "stdout",
     "output_type": "stream",
     "text": [
      "+----------+\n",
      "|FIRST_NAME|\n",
      "+----------+\n",
      "|    Steven|\n",
      "|     Neena|\n",
      "|       Lex|\n",
      "| Alexander|\n",
      "|     Bruce|\n",
      "+----------+\n",
      "only showing top 5 rows\n",
      "\n"
     ]
    }
   ],
   "source": [
    "# 모든 사원의 이름 조회 : select([컬럼명, 컬럼명])\n",
    "emp.select(['FIRST_NAME']).show(5)"
   ]
  },
  {
   "cell_type": "code",
   "execution_count": 31,
   "id": "ee345678-51fe-4ce0-921d-f3fe930c33dd",
   "metadata": {},
   "outputs": [
    {
     "name": "stdout",
     "output_type": "stream",
     "text": [
      "+-----------+----------+---------+--------+------------+----------+-------+------+--------------+----------+-------------+\n",
      "|EMPLOYEE_ID|FIRST_NAME|LAST_NAME|   EMAIL|PHONE_NUMBER| HIRE_DATE| JOB_ID|SALARY|COMMISSION_PCT|MANAGER_ID|DEPARTMENT_ID|\n",
      "+-----------+----------+---------+--------+------------+----------+-------+------+--------------+----------+-------------+\n",
      "|        100|    Steven|     King|   SKING|515.123.4567|2003-06-17|AD_PRES| 24000|          null|      null|           90|\n",
      "|        101|     Neena|  Kochhar|NKOCHHAR|515.123.4568|2005-09-21|  AD_VP| 17000|          null|       100|           90|\n",
      "|        102|       Lex|  De Haan| LDEHAAN|515.123.4569|2001-01-13|  AD_VP| 17000|          null|       100|           90|\n",
      "|        103| Alexander|   Hunold| AHUNOLD|590.423.4567|2006-01-03|IT_PROG|  9000|          null|       102|           60|\n",
      "|        108|     Nancy|Greenberg|NGREENBE|515.124.4569|2002-08-17| FI_MGR| 12008|          null|       101|          100|\n",
      "+-----------+----------+---------+--------+------------+----------+-------+------+--------------+----------+-------------+\n",
      "only showing top 5 rows\n",
      "\n"
     ]
    }
   ],
   "source": [
    "# 급여가 7000 이상인 사원 조회 : filter(조건식)\n",
    "# 특정 컬럼 지정: 데이터프레임이름[컬럼명]\n",
    "emp.filter(emp['SALARY'] >= 7000).show(5)"
   ]
  },
  {
   "cell_type": "code",
   "execution_count": null,
   "id": "68d8f2fd-e968-4926-a8b2-81bc6a9e06a0",
   "metadata": {
    "jupyter": {
     "source_hidden": true
    },
    "tags": []
   },
   "outputs": [],
   "source": []
  },
  {
   "cell_type": "code",
   "execution_count": 32,
   "id": "658b4e2a-ec82-4c69-8e32-f1bbbee0f074",
   "metadata": {},
   "outputs": [
    {
     "data": {
      "text/plain": [
       "47"
      ]
     },
     "execution_count": 32,
     "metadata": {},
     "output_type": "execute_result"
    }
   ],
   "source": [
    "# 급여가 7000 이상인 사원의 수 조회\n",
    "emp.filter(emp['SALARY'] >= 7000).count()"
   ]
  },
  {
   "cell_type": "code",
   "execution_count": 35,
   "id": "ab20926b-8a27-43c8-8a39-6cad268dd038",
   "metadata": {},
   "outputs": [
    {
     "name": "stdout",
     "output_type": "stream",
     "text": [
      "+-----------+-----------+-----------+--------+------------+----------+----------+------+--------------+----------+-------------+\n",
      "|EMPLOYEE_ID| FIRST_NAME|  LAST_NAME|   EMAIL|PHONE_NUMBER| HIRE_DATE|    JOB_ID|SALARY|COMMISSION_PCT|MANAGER_ID|DEPARTMENT_ID|\n",
      "+-----------+-----------+-----------+--------+------------+----------+----------+------+--------------+----------+-------------+\n",
      "|        106|      Valli|  Pataballa|VPATABAL|590.423.4560|2006-02-05|   IT_PROG|  4800|          null|       103|           60|\n",
      "|        112|Jose Manuel|      Urman| JMURMAN|515.124.4469|2006-03-07|FI_ACCOUNT|  7800|          null|       108|          100|\n",
      "|        118|        Guy|     Himuro| GHIMURO|515.127.4565|2006-11-15|  PU_CLERK|  2600|          null|       114|           30|\n",
      "|        126|      Irene|Mikkilineni|IMIKKILI|650.124.1224|2006-09-28|  ST_CLERK|  2700|          null|       120|           50|\n",
      "|        134|    Michael|     Rogers| MROGERS|650.127.1834|2006-08-26|  ST_CLERK|  2900|          null|       122|           50|\n",
      "+-----------+-----------+-----------+--------+------------+----------+----------+------+--------------+----------+-------------+\n",
      "only showing top 5 rows\n",
      "\n"
     ]
    }
   ],
   "source": [
    "# 2006-02-05부터 2006-11-15사이에 고용된 사원 조회\n",
    "emp.filter((emp['HIRE_DATE'] >= '2006-02-05') &\n",
    "          (emp['HIRE_DATE'] <= '2006-11-15')).show(5)"
   ]
  },
  {
   "cell_type": "code",
   "execution_count": 37,
   "id": "11455b27-b50b-40c2-882c-f4a053b328ac",
   "metadata": {},
   "outputs": [
    {
     "name": "stdout",
     "output_type": "stream",
     "text": [
      "+-------------+\n",
      "|DEPARTMENT_ID|\n",
      "+-------------+\n",
      "|           60|\n",
      "|          100|\n",
      "|           30|\n",
      "|           50|\n",
      "|           50|\n",
      "+-------------+\n",
      "only showing top 5 rows\n",
      "\n"
     ]
    }
   ],
   "source": [
    "# 2006-02-05부터 2006-11-15사이에 고용된 사원들의 부서번호 조회\n",
    "emp.filter((emp['HIRE_DATE'] >= '2006-02-05') & (emp['HIRE_DATE'] <= '2006-11-15')).select(['DEPARTMENT_ID']).show(5)"
   ]
  },
  {
   "cell_type": "code",
   "execution_count": 38,
   "id": "230675df-4bf9-4710-85a0-240dc51c7666",
   "metadata": {},
   "outputs": [
    {
     "data": {
      "text/plain": [
       "5"
      ]
     },
     "execution_count": 38,
     "metadata": {},
     "output_type": "execute_result"
    }
   ],
   "source": [
    "# 직책이 IT_PROG인 사원수를 조회\n",
    "emp.filter(emp['JOB_ID'] == 'IT_PROG').count()"
   ]
  },
  {
   "cell_type": "code",
   "execution_count": 40,
   "id": "fef4ee6b-8138-47fb-9788-d1c36b24d2a2",
   "metadata": {},
   "outputs": [
    {
     "name": "stdout",
     "output_type": "stream",
     "text": [
      "+-------------+-----+\n",
      "|DEPARTMENT_ID|count|\n",
      "+-------------+-----+\n",
      "|         null|    1|\n",
      "|           20|    2|\n",
      "|           40|    1|\n",
      "|          100|    6|\n",
      "|           10|    1|\n",
      "|           50|   45|\n",
      "|           80|   34|\n",
      "|           70|    1|\n",
      "|           90|    3|\n",
      "|           60|    5|\n",
      "|          110|    2|\n",
      "|           30|    6|\n",
      "+-------------+-----+\n",
      "\n"
     ]
    }
   ],
   "source": [
    "# 부서번호별 사원수 조회\n",
    "# groupBy(집계대상컬럼).집계함수\n",
    "emp.groupBy('DEPARTMENT_ID').count().show()"
   ]
  },
  {
   "cell_type": "code",
   "execution_count": 42,
   "id": "435169c5-cb47-4786-96df-14c2c65e59a6",
   "metadata": {},
   "outputs": [
    {
     "name": "stdout",
     "output_type": "stream",
     "text": [
      "+----------+-----+\n",
      "|    JOB_ID|count|\n",
      "+----------+-----+\n",
      "|FI_ACCOUNT|    5|\n",
      "|    MK_MAN|    1|\n",
      "|   IT_PROG|    5|\n",
      "|    FI_MGR|    1|\n",
      "|AC_ACCOUNT|    1|\n",
      "|    HR_REP|    1|\n",
      "|  PU_CLERK|    5|\n",
      "|    AC_MGR|    1|\n",
      "|    PR_REP|    1|\n",
      "|    ST_MAN|    5|\n",
      "|    MK_REP|    1|\n",
      "|    SA_REP|   30|\n",
      "|    SA_MAN|    5|\n",
      "|    PU_MAN|    1|\n",
      "|  SH_CLERK|   20|\n",
      "|   AD_PRES|    1|\n",
      "|  ST_CLERK|   20|\n",
      "|   AD_ASST|    1|\n",
      "|     AD_VP|    2|\n",
      "+----------+-----+\n",
      "\n"
     ]
    }
   ],
   "source": [
    "# 직책별 사원수 조회\n",
    "emp.groupBy('JOB_ID').count().show()"
   ]
  },
  {
   "cell_type": "code",
   "execution_count": 43,
   "id": "d279ac9b-8e44-48a5-8118-cd903ff49e7d",
   "metadata": {},
   "outputs": [
    {
     "name": "stdout",
     "output_type": "stream",
     "text": [
      "+-------------+-----+\n",
      "|DEPARTMENT_ID|count|\n",
      "+-------------+-----+\n",
      "|         null|    1|\n",
      "|           10|    1|\n",
      "|           20|    2|\n",
      "|           30|    6|\n",
      "|           40|    1|\n",
      "|           50|   45|\n",
      "|           60|    5|\n",
      "|           70|    1|\n",
      "|           80|   34|\n",
      "|           90|    3|\n",
      "|          100|    6|\n",
      "|          110|    2|\n",
      "+-------------+-----+\n",
      "\n"
     ]
    }
   ],
   "source": [
    "# 부서번호별 사원수 조회후 부서번호 순으로 정렬\n",
    "emp.groupBy('DEPARTMENT_ID').count()\\\n",
    ".orderBy('DEPARTMENT_ID').show()"
   ]
  },
  {
   "cell_type": "code",
   "execution_count": 44,
   "id": "056db6d7-b4c3-428a-85cd-8704e5248fea",
   "metadata": {},
   "outputs": [
    {
     "name": "stdout",
     "output_type": "stream",
     "text": [
      "+----------+-----+\n",
      "|    JOB_ID|count|\n",
      "+----------+-----+\n",
      "|AC_ACCOUNT|    1|\n",
      "|    AC_MGR|    1|\n",
      "|   AD_ASST|    1|\n",
      "|   AD_PRES|    1|\n",
      "|     AD_VP|    2|\n",
      "|FI_ACCOUNT|    5|\n",
      "|    FI_MGR|    1|\n",
      "|    HR_REP|    1|\n",
      "|   IT_PROG|    5|\n",
      "|    MK_MAN|    1|\n",
      "|    MK_REP|    1|\n",
      "|    PR_REP|    1|\n",
      "|  PU_CLERK|    5|\n",
      "|    PU_MAN|    1|\n",
      "|    SA_MAN|    5|\n",
      "|    SA_REP|   30|\n",
      "|  SH_CLERK|   20|\n",
      "|  ST_CLERK|   20|\n",
      "|    ST_MAN|    5|\n",
      "+----------+-----+\n",
      "\n"
     ]
    }
   ],
   "source": [
    "# 직책별 사원수 조회후 직책 순으로 정렬\n",
    "emp.groupBy('JOB_ID').count()\\\n",
    ".orderBy('JOB_ID').show()"
   ]
  },
  {
   "cell_type": "code",
   "execution_count": 46,
   "id": "76a82e2c-39ec-4699-aacf-82c6b7831f08",
   "metadata": {},
   "outputs": [
    {
     "name": "stdout",
     "output_type": "stream",
     "text": [
      "+----------+-----+\n",
      "|    JOB_ID|count|\n",
      "+----------+-----+\n",
      "|    SA_REP|   30|\n",
      "|  SH_CLERK|   20|\n",
      "|  ST_CLERK|   20|\n",
      "|FI_ACCOUNT|    5|\n",
      "|  PU_CLERK|    5|\n",
      "|    ST_MAN|    5|\n",
      "|   IT_PROG|    5|\n",
      "|    SA_MAN|    5|\n",
      "|     AD_VP|    2|\n",
      "|    MK_MAN|    1|\n",
      "|    FI_MGR|    1|\n",
      "|AC_ACCOUNT|    1|\n",
      "|    MK_REP|    1|\n",
      "|    HR_REP|    1|\n",
      "|    AC_MGR|    1|\n",
      "|    PU_MAN|    1|\n",
      "|   AD_PRES|    1|\n",
      "|    PR_REP|    1|\n",
      "|   AD_ASST|    1|\n",
      "+----------+-----+\n",
      "\n"
     ]
    }
   ],
   "source": [
    "# 직책별 사원수 조회후 사원수 순으로 정렬 (내림차순)\n",
    "emp.groupBy('JOB_ID').count()\\\n",
    ".orderBy('count',ascending=False).show()"
   ]
  },
  {
   "cell_type": "markdown",
   "id": "f503b28d-356c-4488-9b88-a48d73284431",
   "metadata": {},
   "source": [
    "## 집계함수 사용하기\n",
    "* agg(집계함수명)"
   ]
  },
  {
   "cell_type": "code",
   "execution_count": 49,
   "id": "51657d4f-ca46-433f-b287-6f6d721c0081",
   "metadata": {},
   "outputs": [],
   "source": [
    "import pyspark.sql.functions as F"
   ]
  },
  {
   "cell_type": "code",
   "execution_count": 52,
   "id": "b6857db2-c59a-4f22-a1cf-386b9fcb0d95",
   "metadata": {},
   "outputs": [
    {
     "name": "stdout",
     "output_type": "stream",
     "text": [
      "+----------+-----------+\n",
      "|    JOB_ID|avg(SALARY)|\n",
      "+----------+-----------+\n",
      "|   AD_PRES|    24000.0|\n",
      "|     AD_VP|    17000.0|\n",
      "|    MK_MAN|    13000.0|\n",
      "|    SA_MAN|    12200.0|\n",
      "|    FI_MGR|    12008.0|\n",
      "|    AC_MGR|    12008.0|\n",
      "|    PU_MAN|    11000.0|\n",
      "|    PR_REP|    10000.0|\n",
      "|    SA_REP|     8350.0|\n",
      "|AC_ACCOUNT|     8300.0|\n",
      "|FI_ACCOUNT|     7920.0|\n",
      "|    ST_MAN|     7280.0|\n",
      "|    HR_REP|     6500.0|\n",
      "|    MK_REP|     6000.0|\n",
      "|   IT_PROG|     5760.0|\n",
      "|   AD_ASST|     4400.0|\n",
      "|  SH_CLERK|     3215.0|\n",
      "|  ST_CLERK|     2785.0|\n",
      "|  PU_CLERK|     2780.0|\n",
      "+----------+-----------+\n",
      "\n"
     ]
    }
   ],
   "source": [
    "# 직책별 평균 급여를 조회해서 내림차순으로 정렬\n",
    "# 단, '평균급여' 컬럼의 이름에 함수명이 포함되어 출력\n",
    "emp.groupBy('JOB_ID').agg(F.avg('SALARY'))\\\n",
    ".orderBy('avg(SALARY)', ascending=False).show()"
   ]
  },
  {
   "cell_type": "code",
   "execution_count": 54,
   "id": "ffed8e4a-4a56-4a90-84b4-d651a4c80640",
   "metadata": {},
   "outputs": [
    {
     "name": "stdout",
     "output_type": "stream",
     "text": [
      "+----------+--------+\n",
      "|    JOB_ID|mean sal|\n",
      "+----------+--------+\n",
      "|   AD_PRES| 24000.0|\n",
      "|     AD_VP| 17000.0|\n",
      "|    MK_MAN| 13000.0|\n",
      "|    SA_MAN| 12200.0|\n",
      "|    FI_MGR| 12008.0|\n",
      "|    AC_MGR| 12008.0|\n",
      "|    PU_MAN| 11000.0|\n",
      "|    PR_REP| 10000.0|\n",
      "|    SA_REP|  8350.0|\n",
      "|AC_ACCOUNT|  8300.0|\n",
      "|FI_ACCOUNT|  7920.0|\n",
      "|    ST_MAN|  7280.0|\n",
      "|    HR_REP|  6500.0|\n",
      "|    MK_REP|  6000.0|\n",
      "|   IT_PROG|  5760.0|\n",
      "|   AD_ASST|  4400.0|\n",
      "|  SH_CLERK|  3215.0|\n",
      "|  ST_CLERK|  2785.0|\n",
      "|  PU_CLERK|  2780.0|\n",
      "+----------+--------+\n",
      "\n"
     ]
    }
   ],
   "source": [
    "# 직책별 평균 급여를 조회해서 내림차순으로 정렬 (별칭부여:alias)\n",
    "emp.groupBy('JOB_ID').agg(F.avg('SALARY').alias('mean sal'))\\\n",
    ".orderBy('mean sal', ascending=False).show()"
   ]
  },
  {
   "cell_type": "code",
   "execution_count": 57,
   "id": "a03f2892-17dc-412b-b398-e3390f1d7796",
   "metadata": {},
   "outputs": [
    {
     "name": "stdout",
     "output_type": "stream",
     "text": [
      "+----------+\n",
      "|    JOB_ID|\n",
      "+----------+\n",
      "|FI_ACCOUNT|\n",
      "|    MK_MAN|\n",
      "|   IT_PROG|\n",
      "|    FI_MGR|\n",
      "|AC_ACCOUNT|\n",
      "|    HR_REP|\n",
      "|  PU_CLERK|\n",
      "|    AC_MGR|\n",
      "|    PR_REP|\n",
      "|    ST_MAN|\n",
      "|    MK_REP|\n",
      "|    SA_REP|\n",
      "|    SA_MAN|\n",
      "|    PU_MAN|\n",
      "|  SH_CLERK|\n",
      "|   AD_PRES|\n",
      "|  ST_CLERK|\n",
      "|   AD_ASST|\n",
      "|     AD_VP|\n",
      "+----------+\n",
      "\n"
     ]
    }
   ],
   "source": [
    "# 사원들의 직책을 모두 출력하세요, \n",
    "# 단 중복없이 하나씩만 표시되도록 합니다 (distinct)\n",
    "emp.select('JOB_ID').distinct().show()"
   ]
  },
  {
   "cell_type": "code",
   "execution_count": 59,
   "id": "58e78092-8fd0-4643-b8bc-a66374bfa0eb",
   "metadata": {},
   "outputs": [
    {
     "data": {
      "text/plain": [
       "19"
      ]
     },
     "execution_count": 59,
     "metadata": {},
     "output_type": "execute_result"
    }
   ],
   "source": [
    "# 모든 직책 수는? (중복제외하고 카운팅)\n",
    "emp.select('JOB_ID').distinct().count()"
   ]
  },
  {
   "cell_type": "code",
   "execution_count": 63,
   "id": "e346f65f-b22b-4835-9ce2-8d8d80e839ce",
   "metadata": {},
   "outputs": [
    {
     "name": "stdout",
     "output_type": "stream",
     "text": [
      "+----------+-------+------+--------+\n",
      "|FIRST_NAME| JOB_ID|SALARY|105% sal|\n",
      "+----------+-------+------+--------+\n",
      "|    Steven|AD_PRES| 24000| 25200.0|\n",
      "|     Neena|  AD_VP| 17000| 17850.0|\n",
      "|       Lex|  AD_VP| 17000| 17850.0|\n",
      "| Alexander|IT_PROG|  9000|  9450.0|\n",
      "|     Bruce|IT_PROG|  6000|  6300.0|\n",
      "+----------+-------+------+--------+\n",
      "only showing top 5 rows\n",
      "\n"
     ]
    }
   ],
   "source": [
    "# 사원의 이름, 직책, 급여 출력하세요\n",
    "# 단, 5% 인상한 급여도 같이 출력합니다\n",
    "# select fname, jobid, sal, sal*1.05 from employees\n",
    "emp.select('FIRST_NAME','JOB_ID','SALARY',\n",
    "           (emp.SALARY * 1.05).alias('105% sal') ).show(5)"
   ]
  },
  {
   "cell_type": "code",
   "execution_count": 89,
   "id": "5dfbff39-aaba-4801-8aa6-2482545e0a23",
   "metadata": {},
   "outputs": [
    {
     "name": "stdout",
     "output_type": "stream",
     "text": [
      "+-------------+---------+------+\n",
      "|DEPARTMENT_ID|LAST_NAME|SALARY|\n",
      "+-------------+---------+------+\n",
      "|           50|    Weiss|  8000|\n",
      "|           50|    Fripp|  8200|\n",
      "|           50| Kaufling|  7900|\n",
      "|           50|  Vollman|  6500|\n",
      "|           50|  Mourgos|  5800|\n",
      "|           20|      Fay|  6000|\n",
      "+-------------+---------+------+\n",
      "\n"
     ]
    }
   ],
   "source": [
    "# 20번 또는 50번 부서에 근무하며, \n",
    "# 급여가 5000 ~ 12,000 사이인 사원들의 LAST_NAME 및 급여를 조회하세요\n",
    "# emp.filter(((emp['DEPARTMENT_ID'] ==20) | (emp['DEPARTMENT_ID'] == 50)) & \\\n",
    "          # ((emp['SALARY'] >= 5000) & (emp['SALARY'] <= 12000)))\\\n",
    "# .select('DEPARTMENT_ID', 'LAST_NAME','SALARY').show(5)\n",
    "\n",
    "emp.filter((emp['DEPARTMENT_ID'] == 20) | (emp['DEPARTMENT_ID'] == 50))\\\n",
    "   .filter((emp['SALARY'] >= 5000) & (emp['SALARY'] <= 12000))\\\n",
    "   .select('DEPARTMENT_ID', 'LAST_NAME', 'SALARY').show()     "
   ]
  },
  {
   "cell_type": "code",
   "execution_count": null,
   "id": "b2ac15b6-ed26-43ad-9366-c12d0bee25b7",
   "metadata": {},
   "outputs": [],
   "source": []
  }
 ],
 "metadata": {
  "kernelspec": {
   "display_name": "Python 3",
   "language": "python",
   "name": "python3"
  },
  "language_info": {
   "codemirror_mode": {
    "name": "ipython",
    "version": 3
   },
   "file_extension": ".py",
   "mimetype": "text/x-python",
   "name": "python",
   "nbconvert_exporter": "python",
   "pygments_lexer": "ipython3",
   "version": "3.8.12"
  }
 },
 "nbformat": 4,
 "nbformat_minor": 5
}
