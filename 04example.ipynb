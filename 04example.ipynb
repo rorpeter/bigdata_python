{
 "cells": [
  {
   "cell_type": "code",
   "execution_count": 1,
   "id": "305225f7-36d2-4a1f-88e7-6f0aa1e639fe",
   "metadata": {},
   "outputs": [],
   "source": [
    "spark = SparkSession.builder.appName(\"hanbit\").getOrCreate()\n",
    "\n",
    "cust = spark.read.csv('Customers.csv', header=True, inferSchema=True)\n",
    "prod = spark.read.csv('Products.csv', header=True, inferSchema=True)\n",
    "ordr = spark.read.csv('Orders.csv', header=True, inferSchema=True)"
   ]
  },
  {
   "cell_type": "code",
   "execution_count": 4,
   "id": "2b832f81-dec0-4371-910c-85563249e404",
   "metadata": {},
   "outputs": [
    {
     "name": "stdout",
     "output_type": "stream",
     "text": [
      "+------+------+------+\n",
      "|userid|  name| grade|\n",
      "+------+------+------+\n",
      "| apple|정소화|  gold|\n",
      "|banana|김선우|   vip|\n",
      "|carrot|고명석|  gold|\n",
      "| melon|성원용|  gold|\n",
      "|orange|김용욱|silver|\n",
      "| peach|오형준|silver|\n",
      "|  pear|채광주|silver|\n",
      "+------+------+------+\n",
      "\n"
     ]
    }
   ],
   "source": [
    "# 7-10\n",
    "cust.select('userid','name','grade').show()"
   ]
  },
  {
   "cell_type": "code",
   "execution_count": 5,
   "id": "81691567-452a-42a0-a19b-f54c3fdca2df",
   "metadata": {},
   "outputs": [
    {
     "name": "stdout",
     "output_type": "stream",
     "text": [
      "+------+------+----+------+------+-----+\n",
      "|userid|  name| age| grade|   job|coins|\n",
      "+------+------+----+------+------+-----+\n",
      "| apple|정소화|  20|  gold|  학생| 1000|\n",
      "|banana|김선우|  25|   vip|간호사| 2500|\n",
      "|carrot|고명석|  28|  gold|  교사| 4500|\n",
      "| melon|성원용|  35|  gold|회사원| 5000|\n",
      "|orange|김용욱|  22|silver|  학생|    0|\n",
      "| peach|오형준|null|silver|  의사|  300|\n",
      "|  pear|채광주|  31|silver|회사원|  500|\n",
      "+------+------+----+------+------+-----+\n",
      "\n"
     ]
    }
   ],
   "source": [
    "# 7-12\n",
    "cust.select('userid','name','age','grade','job','coins').show()"
   ]
  },
  {
   "cell_type": "code",
   "execution_count": 7,
   "id": "7ee28bf4-4ae3-4e4d-b197-3c7d80e929ed",
   "metadata": {},
   "outputs": [
    {
     "name": "stdout",
     "output_type": "stream",
     "text": [
      "+------+------+----+------+------+-----+\n",
      "|userid|  name| age| grade|   job|coins|\n",
      "+------+------+----+------+------+-----+\n",
      "| apple|정소화|  20|  gold|  학생| 1000|\n",
      "|banana|김선우|  25|   vip|간호사| 2500|\n",
      "|carrot|고명석|  28|  gold|  교사| 4500|\n",
      "| melon|성원용|  35|  gold|회사원| 5000|\n",
      "|orange|김용욱|  22|silver|  학생|    0|\n",
      "| peach|오형준|null|silver|  의사|  300|\n",
      "|  pear|채광주|  31|silver|회사원|  500|\n",
      "+------+------+----+------+------+-----+\n",
      "\n"
     ]
    }
   ],
   "source": [
    "# 7-12\n",
    "cust.select('*').show()"
   ]
  },
  {
   "cell_type": "code",
   "execution_count": 8,
   "id": "af8dbd23-9255-4081-8509-11e09afacf78",
   "metadata": {},
   "outputs": [
    {
     "name": "stdout",
     "output_type": "stream",
     "text": [
      "+--------+\n",
      "|   maker|\n",
      "+--------+\n",
      "|대한식품|\n",
      "|민국푸드|\n",
      "|한빛제과|\n",
      "|한빛제과|\n",
      "|대한식품|\n",
      "|민국푸드|\n",
      "|한빛제과|\n",
      "+--------+\n",
      "\n"
     ]
    }
   ],
   "source": [
    "# 7-13\n",
    "prod.select('maker').show()"
   ]
  },
  {
   "cell_type": "code",
   "execution_count": 10,
   "id": "8c6a66ea-c02c-4768-878b-210e573f50e9",
   "metadata": {},
   "outputs": [
    {
     "name": "stdout",
     "output_type": "stream",
     "text": [
      "+------+----------+-----+-----+--------+\n",
      "|prodid|  prodname|stock|price|   maker|\n",
      "+------+----------+-----+-----+--------+\n",
      "|   p01|  그냥만두| 5000| 4500|대한식품|\n",
      "|   p02|  매운쫄면| 2500| 5500|민국푸드|\n",
      "|   p03|  쿵떡파이| 3600| 2600|한빛제과|\n",
      "|   p04|맛난초콜렛| 1250| 2500|한빛제과|\n",
      "|   p05|  얼큰라면| 2200| 1200|대한식품|\n",
      "|   p06|  통통우동| 1000| 1550|민국푸드|\n",
      "|   p07|달콤비스켓| 1650| 1500|한빛제과|\n",
      "+------+----------+-----+-----+--------+\n",
      "\n"
     ]
    }
   ],
   "source": [
    "# 7-14\n",
    "import pyspark.sql.functions as F\n",
    "\n",
    "prod.select(F.col('*')).show()"
   ]
  },
  {
   "cell_type": "code",
   "execution_count": 11,
   "id": "b865bfda-eb82-4c5a-994e-1bbc6c2a3a5e",
   "metadata": {},
   "outputs": [
    {
     "name": "stdout",
     "output_type": "stream",
     "text": [
      "+--------+\n",
      "|   maker|\n",
      "+--------+\n",
      "|한빛제과|\n",
      "|대한식품|\n",
      "|민국푸드|\n",
      "+--------+\n",
      "\n"
     ]
    }
   ],
   "source": [
    "# 7-15\n",
    "prod.select('maker').distinct().show()"
   ]
  },
  {
   "cell_type": "code",
   "execution_count": 13,
   "id": "3c3421ae-b1c7-4d4f-8ef9-11dc481a8077",
   "metadata": {},
   "outputs": [
    {
     "name": "stdout",
     "output_type": "stream",
     "text": [
      "+----------+----+\n",
      "|    상품명|단가|\n",
      "+----------+----+\n",
      "|  그냥만두|4500|\n",
      "|  매운쫄면|5500|\n",
      "|  쿵떡파이|2600|\n",
      "|맛난초콜렛|2500|\n",
      "|  얼큰라면|1200|\n",
      "|  통통우동|1550|\n",
      "|달콤비스켓|1500|\n",
      "+----------+----+\n",
      "\n"
     ]
    }
   ],
   "source": [
    "# 7-16\n",
    "prod.select(prod.prodname.alias('상품명'), prod.price.alias('단가')).show()"
   ]
  },
  {
   "cell_type": "code",
   "execution_count": 14,
   "id": "dc843835-2819-4d86-9926-c0f129510269",
   "metadata": {},
   "outputs": [
    {
     "name": "stdout",
     "output_type": "stream",
     "text": [
      "+----------+----+--------+\n",
      "|    상품명|단가|조정단가|\n",
      "+----------+----+--------+\n",
      "|  그냥만두|4500|    5000|\n",
      "|  매운쫄면|5500|    6000|\n",
      "|  쿵떡파이|2600|    3100|\n",
      "|맛난초콜렛|2500|    3000|\n",
      "|  얼큰라면|1200|    1700|\n",
      "|  통통우동|1550|    2050|\n",
      "|달콤비스켓|1500|    2000|\n",
      "+----------+----+--------+\n",
      "\n"
     ]
    }
   ],
   "source": [
    "# 7-17\n",
    "prod.select(prod.prodname.alias('상품명'), prod.price.alias('단가'),\n",
    "           (prod.price + 500).alias('조정단가')).show()"
   ]
  },
  {
   "cell_type": "code",
   "execution_count": 18,
   "id": "e49c86ea-297c-407d-8c53-8af2c98f8609",
   "metadata": {},
   "outputs": [
    {
     "name": "stdout",
     "output_type": "stream",
     "text": [
      "+--------+----------+-----+-----+\n",
      "|   maker|  prodname|stock|price|\n",
      "+--------+----------+-----+-----+\n",
      "|한빛제과|  쿵떡파이| 3600| 2600|\n",
      "|한빛제과|맛난초콜렛| 1250| 2500|\n",
      "|한빛제과|달콤비스켓| 1650| 1500|\n",
      "+--------+----------+-----+-----+\n",
      "\n"
     ]
    }
   ],
   "source": [
    "# 7-18\n",
    "prod.filter(prod.maker == '한빛제과')\\\n",
    ".select('maker','prodname','stock','price').show()"
   ]
  },
  {
   "cell_type": "code",
   "execution_count": 17,
   "id": "61000464-e075-4387-871a-641721805f6f",
   "metadata": {},
   "outputs": [
    {
     "name": "stdout",
     "output_type": "stream",
     "text": [
      "+------+------+------+----------+\n",
      "|userid|prodid|amount|   orddate|\n",
      "+------+------+------+----------+\n",
      "| apple|   p03|    22|2013-03-15|\n",
      "+------+------+------+----------+\n",
      "\n"
     ]
    }
   ],
   "source": [
    "# 7-19\n",
    "ordr.filter((ordr.userid == 'apple') & (ordr.amount >= 15))\\\n",
    ".select('userid','prodid','amount','orddate').show()"
   ]
  },
  {
   "cell_type": "code",
   "execution_count": 20,
   "id": "e9842104-a12c-4f4c-b50c-51d759699ba6",
   "metadata": {},
   "outputs": [
    {
     "name": "stdout",
     "output_type": "stream",
     "text": [
      "+------+------+------+----------+\n",
      "|userid|prodid|amount|   orddate|\n",
      "+------+------+------+----------+\n",
      "| apple|   p03|    10|2013-01-01|\n",
      "|banana|   p06|    45|2013-01-11|\n",
      "| melon|   p06|    36|2013-02-20|\n",
      "|banana|   p01|    19|2013-03-02|\n",
      "| apple|   p03|    22|2013-03-15|\n",
      "|  pear|   p02|    50|2013-04-10|\n",
      "|banana|   p04|    15|2013-04-11|\n",
      "|carrot|   p03|    20|2013-05-22|\n",
      "+------+------+------+----------+\n",
      "\n"
     ]
    }
   ],
   "source": [
    "# 7-20\n",
    "ordr.filter((ordr.userid == 'apple') | (ordr.amount >= 15))\\\n",
    ".select('userid','prodid','amount','orddate').show()"
   ]
  },
  {
   "cell_type": "code",
   "execution_count": 21,
   "id": "6982c4db-fe17-4443-b807-e0c7f53447ee",
   "metadata": {},
   "outputs": [
    {
     "name": "stdout",
     "output_type": "stream",
     "text": [
      "+----------+-----+--------+\n",
      "|  prodname|price|   maker|\n",
      "+----------+-----+--------+\n",
      "|  쿵떡파이| 2600|한빛제과|\n",
      "|맛난초콜렛| 2500|한빛제과|\n",
      "+----------+-----+--------+\n",
      "\n"
     ]
    }
   ],
   "source": [
    "# 7-21\n",
    "prod.filter((prod.price >= 2000) & (prod.price <= 3000))\\\n",
    ".select('prodname','price','maker').show()"
   ]
  },
  {
   "cell_type": "code",
   "execution_count": 22,
   "id": "c11336dc-c9e1-4938-859c-16afc011bf4b",
   "metadata": {},
   "outputs": [
    {
     "name": "stdout",
     "output_type": "stream",
     "text": [
      "+------+---+------+-----+\n",
      "|  name|age| grade|coins|\n",
      "+------+---+------+-----+\n",
      "|김선우| 25|   vip| 2500|\n",
      "|김용욱| 22|silver|    0|\n",
      "+------+---+------+-----+\n",
      "\n"
     ]
    }
   ],
   "source": [
    "# 7-22\n",
    "cust.filter(cust.name.like('김%'))\\\n",
    ".select('name','age','grade','coins').show()"
   ]
  },
  {
   "cell_type": "code",
   "execution_count": 25,
   "id": "191f4306-66be-4ad8-be27-94dd919d9ffa",
   "metadata": {},
   "outputs": [
    {
     "name": "stdout",
     "output_type": "stream",
     "text": [
      "+------+------+------+\n",
      "|userid|  name| grade|\n",
      "+------+------+------+\n",
      "| apple|정소화|  gold|\n",
      "| melon|성원용|  gold|\n",
      "| peach|오형준|silver|\n",
      "+------+------+------+\n",
      "\n"
     ]
    }
   ],
   "source": [
    "# 7-23\n",
    "cust.filter(cust.userid.like('_____'))\\\n",
    ".select('userid','name','grade').show()"
   ]
  },
  {
   "cell_type": "code",
   "execution_count": 26,
   "id": "79b81f74-e323-4506-89a1-7b89e7eb3778",
   "metadata": {},
   "outputs": [
    {
     "name": "stdout",
     "output_type": "stream",
     "text": [
      "+------+\n",
      "|  name|\n",
      "+------+\n",
      "|오형준|\n",
      "+------+\n",
      "\n"
     ]
    }
   ],
   "source": [
    "# 7-24\n",
    "cust.filter(cust.age.isNull()).select('name').show()"
   ]
  },
  {
   "cell_type": "code",
   "execution_count": 27,
   "id": "598bfd01-a5f0-4c33-b976-a1a7be32b001",
   "metadata": {},
   "outputs": [
    {
     "name": "stdout",
     "output_type": "stream",
     "text": [
      "+------+\n",
      "|  name|\n",
      "+------+\n",
      "|정소화|\n",
      "|김선우|\n",
      "|고명석|\n",
      "|성원용|\n",
      "|김용욱|\n",
      "|채광주|\n",
      "+------+\n",
      "\n"
     ]
    }
   ],
   "source": [
    "# 7-25\n",
    "cust.filter(cust.age.isNotNull()).select('name').show()"
   ]
  },
  {
   "cell_type": "code",
   "execution_count": 28,
   "id": "c5e579ba-6dfc-429b-9f94-f64135bf8320",
   "metadata": {},
   "outputs": [
    {
     "name": "stdout",
     "output_type": "stream",
     "text": [
      "+------+------+----+\n",
      "|  name| grade| age|\n",
      "+------+------+----+\n",
      "|성원용|  gold|  35|\n",
      "|채광주|silver|  31|\n",
      "|고명석|  gold|  28|\n",
      "|김선우|   vip|  25|\n",
      "|김용욱|silver|  22|\n",
      "|정소화|  gold|  20|\n",
      "|오형준|silver|null|\n",
      "+------+------+----+\n",
      "\n"
     ]
    }
   ],
   "source": [
    "# 7-26\n",
    "cust.select('name','grade','age').orderBy('age', ascending=False).show()"
   ]
  },
  {
   "cell_type": "code",
   "execution_count": 33,
   "id": "33c485d7-98ae-4650-be79-945621573147",
   "metadata": {},
   "outputs": [
    {
     "name": "stdout",
     "output_type": "stream",
     "text": [
      "+------+------+------+----------+\n",
      "|userid|prodid|amount|   orddate|\n",
      "+------+------+------+----------+\n",
      "|banana|   p01|    19|2013-03-02|\n",
      "|  pear|   p02|    50|2013-04-10|\n",
      "| apple|   p03|    22|2013-03-15|\n",
      "|carrot|   p03|    20|2013-05-22|\n",
      "| apple|   p03|    10|2013-01-01|\n",
      "|banana|   p04|    15|2013-04-11|\n",
      "|banana|   p06|    45|2013-01-11|\n",
      "| melon|   p06|    36|2013-02-20|\n",
      "+------+------+------+----------+\n",
      "\n"
     ]
    }
   ],
   "source": [
    "# 7-27\n",
    "ordr.filter(ordr.amount >= 10)\\\n",
    ".select('userid','prodid','amount','orddate')\\\n",
    ".orderBy('amount', ascending=False).orderBy('prodid', ascending=True).show()"
   ]
  },
  {
   "cell_type": "code",
   "execution_count": 35,
   "id": "65b0caa4-354b-4385-90d7-b30a8a0c85cb",
   "metadata": {},
   "outputs": [
    {
     "name": "stdout",
     "output_type": "stream",
     "text": [
      "+------+------+------+----------+\n",
      "|userid|prodid|amount|   orddate|\n",
      "+------+------+------+----------+\n",
      "|banana|   p01|    19|2013-03-02|\n",
      "|  pear|   p02|    50|2013-04-10|\n",
      "| apple|   p03|    22|2013-03-15|\n",
      "|carrot|   p03|    20|2013-05-22|\n",
      "| apple|   p03|    10|2013-01-01|\n",
      "|banana|   p04|    15|2013-04-11|\n",
      "|banana|   p06|    45|2013-01-11|\n",
      "| melon|   p06|    36|2013-02-20|\n",
      "+------+------+------+----------+\n",
      "\n"
     ]
    }
   ],
   "source": [
    "# 7-27\n",
    "ordr.filter(ordr.amount >= 10)\\\n",
    ".select('userid','prodid','amount','orddate')\\\n",
    ".orderBy(['prodid', 'amount'],ascending=[1,0]).show()"
   ]
  },
  {
   "cell_type": "code",
   "execution_count": 38,
   "id": "8d9c06ab-8f70-40c6-9e32-75ecf5f265a9",
   "metadata": {},
   "outputs": [
    {
     "name": "stdout",
     "output_type": "stream",
     "text": [
      "+-----------------+\n",
      "|         단가평균|\n",
      "+-----------------+\n",
      "|2764.285714285714|\n",
      "+-----------------+\n",
      "\n"
     ]
    }
   ],
   "source": [
    "# 7-28\n",
    "prod.agg(F.avg('price').alias('단가평균')).show()"
   ]
  },
  {
   "cell_type": "code",
   "execution_count": 41,
   "id": "f308850f-23a4-40da-8a7c-40ade6c11a29",
   "metadata": {},
   "outputs": [
    {
     "name": "stdout",
     "output_type": "stream",
     "text": [
      "+--------+\n",
      "|단가평균|\n",
      "+--------+\n",
      "| 2764.29|\n",
      "+--------+\n",
      "\n"
     ]
    }
   ],
   "source": [
    "# 7-28\n",
    "prod.agg(F.round(F.avg('price'),2).alias('단가평균')).show()"
   ]
  },
  {
   "cell_type": "code",
   "execution_count": 46,
   "id": "d3c702b0-e242-4b5a-b6b1-0c6005d62671",
   "metadata": {},
   "outputs": [
    {
     "name": "stdout",
     "output_type": "stream",
     "text": [
      "+----------+\n",
      "|재고량합계|\n",
      "+----------+\n",
      "|      6500|\n",
      "+----------+\n",
      "\n"
     ]
    }
   ],
   "source": [
    "# 7-29\n",
    "prod.filter(prod.maker == '한빛제과')\\\n",
    ".agg(F.sum('stock').alias('재고량합계')).show()"
   ]
  },
  {
   "cell_type": "code",
   "execution_count": 48,
   "id": "53473180-890d-40e6-bdc4-2c00cf3f4019",
   "metadata": {},
   "outputs": [
    {
     "data": {
      "text/plain": [
       "7"
      ]
     },
     "execution_count": 48,
     "metadata": {},
     "output_type": "execute_result"
    }
   ],
   "source": [
    "# 7-30\n",
    "cust.select('name').count()"
   ]
  },
  {
   "cell_type": "code",
   "execution_count": 51,
   "id": "22c4e8ee-f725-41d1-9ed9-16bb65d77c49",
   "metadata": {},
   "outputs": [
    {
     "name": "stdout",
     "output_type": "stream",
     "text": [
      "+------+\n",
      "|회원수|\n",
      "+------+\n",
      "|     7|\n",
      "+------+\n",
      "\n"
     ]
    }
   ],
   "source": [
    "# 7-30\n",
    "cust.agg(F.count('name').alias('회원수')).show()"
   ]
  },
  {
   "cell_type": "code",
   "execution_count": 52,
   "id": "5ff0b1a3-1efc-43bc-a352-ee68d567dab4",
   "metadata": {},
   "outputs": [
    {
     "name": "stdout",
     "output_type": "stream",
     "text": [
      "+----------+\n",
      "|제조업체수|\n",
      "+----------+\n",
      "|         7|\n",
      "+----------+\n",
      "\n"
     ]
    }
   ],
   "source": [
    "# 7-31\n",
    "prod.agg(F.count('maker').alias('제조업체수')).show()"
   ]
  },
  {
   "cell_type": "code",
   "execution_count": 53,
   "id": "f71bbef0-dfbb-449f-89d2-f11937d1372e",
   "metadata": {
    "tags": []
   },
   "outputs": [
    {
     "name": "stdout",
     "output_type": "stream",
     "text": [
      "+----------+\n",
      "|제조업체수|\n",
      "+----------+\n",
      "|         3|\n",
      "+----------+\n",
      "\n"
     ]
    }
   ],
   "source": [
    "# 7-31\n",
    "prod.agg(F.countDistinct('maker').alias('제조업체수')).show()"
   ]
  },
  {
   "cell_type": "code",
   "execution_count": 55,
   "id": "ca7f5377-35fd-47bb-9e02-3b7dc817cb0d",
   "metadata": {},
   "outputs": [
    {
     "name": "stdout",
     "output_type": "stream",
     "text": [
      "+------+------------+\n",
      "|prodid|주문수량합계|\n",
      "+------+------------+\n",
      "|   p03|          52|\n",
      "|   p01|          24|\n",
      "|   p06|          81|\n",
      "|   p02|          58|\n",
      "|   p04|          15|\n",
      "+------+------------+\n",
      "\n"
     ]
    }
   ],
   "source": [
    "# 7-32\n",
    "ordr.groupby('prodid').agg(F.sum('amount').alias('주문수량합계')).show()"
   ]
  },
  {
   "cell_type": "code",
   "execution_count": 59,
   "id": "d66a536a-9760-47f3-a984-f069b2f6bb88",
   "metadata": {},
   "outputs": [
    {
     "name": "stdout",
     "output_type": "stream",
     "text": [
      "+------+------------+--------+\n",
      "|prodid|주문수량합계|주문건수|\n",
      "+------+------------+--------+\n",
      "|   p03|          52|       3|\n",
      "|   p01|          24|       2|\n",
      "|   p06|          81|       2|\n",
      "|   p02|          58|       2|\n",
      "|   p04|          15|       1|\n",
      "+------+------------+--------+\n",
      "\n"
     ]
    }
   ],
   "source": [
    "# 7-32\n",
    "ordr.groupBy('prodid')\\\n",
    ".agg(F.sum('amount').alias('주문수량합계'), F.count('prodid').alias('주문건수')).show()"
   ]
  },
  {
   "cell_type": "code",
   "execution_count": 60,
   "id": "ef7e48dc-5bba-4f47-80a9-14bbdd3b7532",
   "metadata": {},
   "outputs": [
    {
     "name": "stdout",
     "output_type": "stream",
     "text": [
      "+--------+------+------+\n",
      "|   maker|제품수|최고가|\n",
      "+--------+------+------+\n",
      "|한빛제과|     3|  2600|\n",
      "|대한식품|     2|  4500|\n",
      "|민국푸드|     2|  5500|\n",
      "+--------+------+------+\n",
      "\n"
     ]
    }
   ],
   "source": [
    "# 7-33\n",
    "prod.groupBy('maker')\\\n",
    ".agg(F.count('prodid').alias('제품수'), F.max('price').alias('최고가')).show()"
   ]
  },
  {
   "cell_type": "code",
   "execution_count": 62,
   "id": "cdc98736-cd84-4f40-8525-6ac04d14800d",
   "metadata": {},
   "outputs": [
    {
     "name": "stdout",
     "output_type": "stream",
     "text": [
      "+--------+------+------+\n",
      "|   maker|제품수|최고가|\n",
      "+--------+------+------+\n",
      "|한빛제과|     3|  2600|\n",
      "+--------+------+------+\n",
      "\n"
     ]
    }
   ],
   "source": [
    "# 7-34\n",
    "prod.groupBy('maker')\\\n",
    ".agg(F.count('prodid').alias('제품수'), F.max('price').alias('최고가'))\\\n",
    ".filter(F.col('제품수') >= 3).show()"
   ]
  },
  {
   "cell_type": "code",
   "execution_count": 66,
   "id": "ae34ff96-a487-430f-9ec9-8451aa6f2271",
   "metadata": {},
   "outputs": [
    {
     "name": "stdout",
     "output_type": "stream",
     "text": [
      "+-----+------+----------+\n",
      "|grade|고객수|적립금평균|\n",
      "+-----+------+----------+\n",
      "| gold|     3|    3500.0|\n",
      "|  vip|     1|    2500.0|\n",
      "+-----+------+----------+\n",
      "\n"
     ]
    }
   ],
   "source": [
    "# 7-35\n",
    "cust.groupBy('grade')\\\n",
    ".agg(F.count('name').alias('고객수'),\n",
    "     F.round(F.avg('coins'),1).alias('적립금평균'))\\\n",
    ".filter(F.col('적립금평균') >= 1000).show()"
   ]
  },
  {
   "cell_type": "code",
   "execution_count": 74,
   "id": "03ee27ef-b6a5-4f5d-8a88-ccedbc2ba320",
   "metadata": {},
   "outputs": [
    {
     "name": "stdout",
     "output_type": "stream",
     "text": [
      "+------+--------+\n",
      "|prodid|주문수량|\n",
      "+------+--------+\n",
      "|   p03|      52|\n",
      "|   p01|      24|\n",
      "|   p06|      81|\n",
      "|   p02|      58|\n",
      "|   p04|      15|\n",
      "+------+--------+\n",
      "\n"
     ]
    }
   ],
   "source": [
    "# 7-36\n",
    "ordr.groupBy('prodid')\\\n",
    ".agg(F.sum('amount').alias('주문수량')).show()"
   ]
  },
  {
   "cell_type": "code",
   "execution_count": 68,
   "id": "ac8b117f-1ff0-492c-b79b-dd6654f4400f",
   "metadata": {},
   "outputs": [
    {
     "name": "stdout",
     "output_type": "stream",
     "text": [
      "+------+----------+\n",
      "|userid|  prodname|\n",
      "+------+----------+\n",
      "|banana|  통통우동|\n",
      "|banana|  그냥만두|\n",
      "|banana|맛난초콜렛|\n",
      "+------+----------+\n",
      "\n"
     ]
    }
   ],
   "source": [
    "# 7-37\n",
    "ordrprod = ordr.join(prod, 'prodid', 'inner')\n",
    "ordrprod.filter(F.col('userid') == 'banana')\\\n",
    ".select('userid', 'prodname').show()"
   ]
  },
  {
   "cell_type": "code",
   "execution_count": 70,
   "id": "275bf060-3c6f-4687-9d56-cc2c60d9777b",
   "metadata": {},
   "outputs": [
    {
     "name": "stdout",
     "output_type": "stream",
     "text": [
      "+---+------+----------+\n",
      "|age|prodid|   orddate|\n",
      "+---+------+----------+\n",
      "| 35|   p01|2013-01-10|\n",
      "| 35|   p06|2013-02-20|\n",
      "| 31|   p02|2013-04-10|\n",
      "+---+------+----------+\n",
      "\n"
     ]
    }
   ],
   "source": [
    "# 7-38\n",
    "ordrcust = ordr.join(cust, 'userid', 'inner')\n",
    "ordrcust.filter(F.col('age') >= 30).select('age', 'prodid','orddate').show()"
   ]
  },
  {
   "cell_type": "code",
   "execution_count": 72,
   "id": "f0597c82-11ed-41de-9e34-886892607cc4",
   "metadata": {},
   "outputs": [
    {
     "name": "stdout",
     "output_type": "stream",
     "text": [
      "+------+--------+\n",
      "|  name|prodname|\n",
      "+------+--------+\n",
      "|고명석|매운쫄면|\n",
      "|고명석|쿵떡파이|\n",
      "+------+--------+\n",
      "\n"
     ]
    }
   ],
   "source": [
    "# 7-39\n",
    "ordcusprd = ordrcust.join(prod, 'prodid', 'inner')\n",
    "ordcusprd.filter(F.col('name') == '고명석').select('name','prodname').show()"
   ]
  },
  {
   "cell_type": "code",
   "execution_count": null,
   "id": "c0ae5c26-1d36-4a7b-a234-39a2a3cf6903",
   "metadata": {},
   "outputs": [],
   "source": []
  },
  {
   "cell_type": "code",
   "execution_count": null,
   "id": "8d4a3cce-0942-4bfb-8de7-308ace18ff8e",
   "metadata": {},
   "outputs": [],
   "source": []
  }
 ],
 "metadata": {
  "kernelspec": {
   "display_name": "Python 3",
   "language": "python",
   "name": "python3"
  },
  "language_info": {
   "codemirror_mode": {
    "name": "ipython",
    "version": 3
   },
   "file_extension": ".py",
   "mimetype": "text/x-python",
   "name": "python",
   "nbconvert_exporter": "python",
   "pygments_lexer": "ipython3",
   "version": "3.8.12"
  }
 },
 "nbformat": 4,
 "nbformat_minor": 5
}
