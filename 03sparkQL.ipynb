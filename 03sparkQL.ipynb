{
 "cells": [
  {
   "cell_type": "markdown",
   "id": "d9256abd-83fe-4f4f-8911-dbdfc633fe8f",
   "metadata": {},
   "source": [
    "## Join\n",
    "+ 여러 테이블을 연결해서 데이터를 검색하는 것\n",
    "+ 테이블의 결합기준은 각 테이블에 존재하는 공통 속성임\n",
    "+ 결합 유형 : inner join, outer join, self join\n",
    "+ 데이터객체명.join(조인대상, 조인조건, 조인유형)"
   ]
  },
  {
   "cell_type": "code",
   "execution_count": 1,
   "id": "eb689e40-1f1e-446e-a368-fc76a1c65f86",
   "metadata": {},
   "outputs": [],
   "source": [
    "spark = SparkSession.builder.appName(\"emp\").getOrCreate()"
   ]
  },
  {
   "cell_type": "code",
   "execution_count": 3,
   "id": "c71cc42b-ae13-4b84-baf1-1b95fcfb13e2",
   "metadata": {},
   "outputs": [],
   "source": [
    "emp = spark.read.csv('EMPLOYEES.csv', header = True, inferSchema= True) "
   ]
  },
  {
   "cell_type": "code",
   "execution_count": 4,
   "id": "5b0a8052-9039-496d-b73e-1580431fb9e0",
   "metadata": {},
   "outputs": [],
   "source": [
    "dept = spark.read.csv('DEPARTMENTS.csv', header=True, inferSchema=True)"
   ]
  },
  {
   "cell_type": "markdown",
   "id": "68671330-8fad-45f5-bcc3-a7599261ea51",
   "metadata": {},
   "source": [
    "## 내부조인:공통 속성명이 다를 경우\n",
    "* select * from emp inner join dept d  \n",
    "on e.DEPARTMENT_ID = d.DEPARTMENT_ID"
   ]
  },
  {
   "cell_type": "code",
   "execution_count": 6,
   "id": "7066b23f-1278-4b91-9d6b-981202b5b88a",
   "metadata": {},
   "outputs": [
    {
     "name": "stdout",
     "output_type": "stream",
     "text": [
      "+-----------+----------+---------+--------+------------+----------+-------+------+--------------+----------+-------------+-------------+---------------+----------+-----------+\n",
      "|EMPLOYEE_ID|FIRST_NAME|LAST_NAME|   EMAIL|PHONE_NUMBER| HIRE_DATE| JOB_ID|SALARY|COMMISSION_PCT|MANAGER_ID|DEPARTMENT_ID|DEPARTMENT_ID|DEPARTMENT_NAME|MANAGER_ID|LOCATION_ID|\n",
      "+-----------+----------+---------+--------+------------+----------+-------+------+--------------+----------+-------------+-------------+---------------+----------+-----------+\n",
      "|        100|    Steven|     King|   SKING|515.123.4567|2003-06-17|AD_PRES| 24000|          null|      null|           90|           90|      Executive|       100|       1700|\n",
      "|        101|     Neena|  Kochhar|NKOCHHAR|515.123.4568|2005-09-21|  AD_VP| 17000|          null|       100|           90|           90|      Executive|       100|       1700|\n",
      "|        102|       Lex|  De Haan| LDEHAAN|515.123.4569|2001-01-13|  AD_VP| 17000|          null|       100|           90|           90|      Executive|       100|       1700|\n",
      "|        103| Alexander|   Hunold| AHUNOLD|590.423.4567|2006-01-03|IT_PROG|  9000|          null|       102|           60|           60|             IT|       103|       1400|\n",
      "|        104|     Bruce|    Ernst|  BERNST|590.423.4568|2007-05-21|IT_PROG|  6000|          null|       103|           60|           60|             IT|       103|       1400|\n",
      "+-----------+----------+---------+--------+------------+----------+-------+------+--------------+----------+-------------+-------------+---------------+----------+-----------+\n",
      "only showing top 5 rows\n",
      "\n"
     ]
    }
   ],
   "source": [
    "join_condition = emp.DEPARTMENT_ID == dept.DEPARTMENT_ID\n",
    "empdept = emp.join(dept, join_condition, 'inner')\n",
    "empdept.show(5)"
   ]
  },
  {
   "cell_type": "markdown",
   "id": "c8110408-5fbd-4517-a7d2-d63e942cf223",
   "metadata": {},
   "source": [
    "## 내부조인:공통 속성명이 같을 경우\n",
    "* select * from emp inner join dept d  \n",
    "using (DEPARTMENT_ID)"
   ]
  },
  {
   "cell_type": "code",
   "execution_count": 10,
   "id": "5b51535f-57f3-403b-b39c-b011729d5294",
   "metadata": {},
   "outputs": [
    {
     "name": "stdout",
     "output_type": "stream",
     "text": [
      "+-------------+-----------+----------+---------+--------+------------+----------+-------+------+--------------+----------+---------------+----------+-----------+\n",
      "|DEPARTMENT_ID|EMPLOYEE_ID|FIRST_NAME|LAST_NAME|   EMAIL|PHONE_NUMBER| HIRE_DATE| JOB_ID|SALARY|COMMISSION_PCT|MANAGER_ID|DEPARTMENT_NAME|MANAGER_ID|LOCATION_ID|\n",
      "+-------------+-----------+----------+---------+--------+------------+----------+-------+------+--------------+----------+---------------+----------+-----------+\n",
      "|           90|        100|    Steven|     King|   SKING|515.123.4567|2003-06-17|AD_PRES| 24000|          null|      null|      Executive|       100|       1700|\n",
      "|           90|        101|     Neena|  Kochhar|NKOCHHAR|515.123.4568|2005-09-21|  AD_VP| 17000|          null|       100|      Executive|       100|       1700|\n",
      "|           90|        102|       Lex|  De Haan| LDEHAAN|515.123.4569|2001-01-13|  AD_VP| 17000|          null|       100|      Executive|       100|       1700|\n",
      "|           60|        103| Alexander|   Hunold| AHUNOLD|590.423.4567|2006-01-03|IT_PROG|  9000|          null|       102|             IT|       103|       1400|\n",
      "|           60|        104|     Bruce|    Ernst|  BERNST|590.423.4568|2007-05-21|IT_PROG|  6000|          null|       103|             IT|       103|       1400|\n",
      "+-------------+-----------+----------+---------+--------+------------+----------+-------+------+--------------+----------+---------------+----------+-----------+\n",
      "only showing top 5 rows\n",
      "\n"
     ]
    }
   ],
   "source": [
    "empdept = emp.join(dept, 'DEPARTMENT_ID', 'inner')\n",
    "empdept.show(5)"
   ]
  },
  {
   "cell_type": "markdown",
   "id": "fd2cdcc9-21b8-4fc8-b918-b5fed4369cae",
   "metadata": {},
   "source": [
    "## 외부조인\n",
    "* full,left,right"
   ]
  },
  {
   "cell_type": "code",
   "execution_count": 15,
   "id": "33a3deed-e125-46b9-8a08-1ee003231c38",
   "metadata": {},
   "outputs": [
    {
     "name": "stdout",
     "output_type": "stream",
     "text": [
      "+-------------+-----------+----------+---------+--------+------------------+----------+-------+------+--------------+----------+---------------+----------+-----------+\n",
      "|DEPARTMENT_ID|EMPLOYEE_ID|FIRST_NAME|LAST_NAME|   EMAIL|      PHONE_NUMBER| HIRE_DATE| JOB_ID|SALARY|COMMISSION_PCT|MANAGER_ID|DEPARTMENT_NAME|MANAGER_ID|LOCATION_ID|\n",
      "+-------------+-----------+----------+---------+--------+------------------+----------+-------+------+--------------+----------+---------------+----------+-----------+\n",
      "|         null|        178| Kimberely|    Grant|  KGRANT|011.44.1644.429263|2007-05-24| SA_REP|  7000|          0.15|       149|           null|      null|       null|\n",
      "|           10|        200|  Jennifer|   Whalen| JWHALEN|      515.123.4444|2003-09-17|AD_ASST|  4400|          null|       101| Administration|       200|       1700|\n",
      "|           20|        201|   Michael|Hartstein|MHARTSTE|      515.123.5555|2004-02-17| MK_MAN| 13000|          null|       100|      Marketing|       201|       1800|\n",
      "|           20|        202|       Pat|      Fay|    PFAY|      603.123.6666|2005-08-17| MK_REP|  6000|          null|       201|      Marketing|       201|       1800|\n",
      "|           30|        114|       Den| Raphaely|DRAPHEAL|      515.127.4561|2002-12-07| PU_MAN| 11000|          null|       100|     Purchasing|       114|       1700|\n",
      "+-------------+-----------+----------+---------+--------+------------------+----------+-------+------+--------------+----------+---------------+----------+-----------+\n",
      "only showing top 5 rows\n",
      "\n"
     ]
    }
   ],
   "source": [
    "empdept2 = emp.join(dept, 'DEPARTMENT_ID', 'outer')  \n",
    "empdept2.show(5)"
   ]
  },
  {
   "cell_type": "code",
   "execution_count": 17,
   "id": "b2f8c98a-b12e-47f3-989b-cd6cc41d5588",
   "metadata": {},
   "outputs": [
    {
     "name": "stdout",
     "output_type": "stream",
     "text": [
      "+-------------+--------------------+\n",
      "|DEPARTMENT_ID|     DEPARTMENT_NAME|\n",
      "+-------------+--------------------+\n",
      "|          120|            Treasury|\n",
      "|          130|       Corporate Tax|\n",
      "|          140|  Control And Credit|\n",
      "|          150|Shareholder Services|\n",
      "|          160|            Benefits|\n",
      "+-------------+--------------------+\n",
      "only showing top 5 rows\n",
      "\n"
     ]
    }
   ],
   "source": [
    "# 사원이 한명도 없는 부서를 조회하세요\n",
    "# select DEPARTMENT_ID, DEPARTMENT_NAME from emp e outer join dept d\n",
    "# using DEPARTMENT_ID where e.FIRST_NAME is null\n",
    "\n",
    "empdept2.filter(empdept2.FIRST_NAME.isNull())\\\n",
    ".select('DEPARTMENT_ID', 'DEPARTMENT_NAME').show(5)"
   ]
  },
  {
   "cell_type": "code",
   "execution_count": 20,
   "id": "79184c35-f6d4-4b43-828c-f6c0a48ec101",
   "metadata": {},
   "outputs": [
    {
     "name": "stdout",
     "output_type": "stream",
     "text": [
      "+----------+---------+\n",
      "|FIRST_NAME|LAST_NAME|\n",
      "+----------+---------+\n",
      "| Kimberely|    Grant|\n",
      "+----------+---------+\n",
      "\n"
     ]
    }
   ],
   "source": [
    "# 부서에 소속되지 않은 사원을 조회하세요\n",
    "# select DEPARTMENT_ID, DEPARTMENT_NAME from emp e outer join dept d\n",
    "# using DEPARTMENT_ID where e.DEPARTMENT_NAME is null\n",
    "\n",
    "empdept2.filter(empdept2.DEPARTMENT_ID.isNull())\\\n",
    ".select('FIRST_NAME', 'LAST_NAME').show()"
   ]
  },
  {
   "cell_type": "markdown",
   "id": "0f457003-ffd2-4639-aee5-4d37ebf6cd24",
   "metadata": {},
   "source": [
    "# 예제 데이터베이스 - 고객,제품,주문"
   ]
  },
  {
   "cell_type": "code",
   "execution_count": 23,
   "id": "e50eb2ef-98dc-4a35-afba-a3c7c40b16e6",
   "metadata": {},
   "outputs": [],
   "source": [
    "cust = spark.read.csv('Customers.csv', header=True, inferSchema=True)\n",
    "prod = spark.read.csv('Products.csv', header=True, inferSchema=True)\n",
    "ordr = spark.read.csv('Orders.csv', header=True, inferSchema=True)"
   ]
  },
  {
   "cell_type": "code",
   "execution_count": 24,
   "id": "f0585389-991b-4860-b446-4b0a59d68d4c",
   "metadata": {
    "tags": []
   },
   "outputs": [
    {
     "name": "stdout",
     "output_type": "stream",
     "text": [
      "+------+------+---+------+------+-----+\n",
      "|userid|  name|age| grade|   job|coins|\n",
      "+------+------+---+------+------+-----+\n",
      "| apple|정소화| 20|  gold|  학생| 1000|\n",
      "|banana|김선우| 25|   vip|간호사| 2500|\n",
      "|carrot|고명석| 28|  gold|  교사| 4500|\n",
      "| melon|성원용| 35|  gold|회사원| 5000|\n",
      "|orange|김용욱| 22|silver|  학생|    0|\n",
      "+------+------+---+------+------+-----+\n",
      "only showing top 5 rows\n",
      "\n"
     ]
    }
   ],
   "source": [
    "cust.show(5)"
   ]
  },
  {
   "cell_type": "code",
   "execution_count": 25,
   "id": "e9a0aac3-c10b-4b82-85e6-cf489eb0d1a8",
   "metadata": {},
   "outputs": [
    {
     "name": "stdout",
     "output_type": "stream",
     "text": [
      "+------+----------+-----+-----+--------+\n",
      "|prodid|  prodname|stock|price|   maker|\n",
      "+------+----------+-----+-----+--------+\n",
      "|   p01|  그냥만두| 5000| 4500|대한식품|\n",
      "|   p02|  매운쫄면| 2500| 5500|민국푸드|\n",
      "|   p03|  쿵떡파이| 3600| 2600|한빛제과|\n",
      "|   p04|맛난초콜렛| 1250| 2500|한빛제과|\n",
      "|   p05|  얼큰라면| 2200| 1200|대한식품|\n",
      "+------+----------+-----+-----+--------+\n",
      "only showing top 5 rows\n",
      "\n"
     ]
    }
   ],
   "source": [
    "prod.show(5)"
   ]
  },
  {
   "cell_type": "code",
   "execution_count": 26,
   "id": "7bb516ab-35ec-4ef9-85e4-4b35e4872938",
   "metadata": {},
   "outputs": [
    {
     "name": "stdout",
     "output_type": "stream",
     "text": [
      "+-------+------+------+------+-------------+----------+\n",
      "|orderid|userid|prodid|amount|         addr|   orddate|\n",
      "+-------+------+------+------+-------------+----------+\n",
      "|    o01| apple|   p03|    10|서울시 마포구|2013-01-01|\n",
      "|    o02| melon|   p01|     5|인천시 계양구|2013-01-10|\n",
      "|    o03|banana|   p06|    45|경기도 부천시|2013-01-11|\n",
      "|    o04|carrot|   p02|     8|부산시 금정구|2013-02-01|\n",
      "|    o05| melon|   p06|    36|경기도 용인시|2013-02-20|\n",
      "+-------+------+------+------+-------------+----------+\n",
      "only showing top 5 rows\n",
      "\n"
     ]
    }
   ],
   "source": [
    "ordr.show(5)"
   ]
  },
  {
   "cell_type": "code",
   "execution_count": 27,
   "id": "a94f87ef-6e47-4783-997f-c30940a99065",
   "metadata": {},
   "outputs": [
    {
     "name": "stdout",
     "output_type": "stream",
     "text": [
      "+------+-------+------+------+-------------+----------+--------+-----+-----+--------+\n",
      "|prodid|orderid|userid|amount|         addr|   orddate|prodname|stock|price|   maker|\n",
      "+------+-------+------+------+-------------+----------+--------+-----+-----+--------+\n",
      "|   p03|    o01| apple|    10|서울시 마포구|2013-01-01|쿵떡파이| 3600| 2600|한빛제과|\n",
      "|   p01|    o02| melon|     5|인천시 계양구|2013-01-10|그냥만두| 5000| 4500|대한식품|\n",
      "|   p06|    o03|banana|    45|경기도 부천시|2013-01-11|통통우동| 1000| 1550|민국푸드|\n",
      "|   p02|    o04|carrot|     8|부산시 금정구|2013-02-01|매운쫄면| 2500| 5500|민국푸드|\n",
      "|   p06|    o05| melon|    36|경기도 용인시|2013-02-20|통통우동| 1000| 1550|민국푸드|\n",
      "+------+-------+------+------+-------------+----------+--------+-----+-----+--------+\n",
      "only showing top 5 rows\n",
      "\n"
     ]
    }
   ],
   "source": [
    "# 당근carrot 고객이 주문한 상품의 가격은 무엇인지 조회하세요\n",
    "ordrprod = ordr.join(prod, 'prodid', 'inner')\n",
    "ordrprod.show(5)"
   ]
  },
  {
   "cell_type": "code",
   "execution_count": 30,
   "id": "3a920206-8ad7-4c81-9440-91b47a04abb4",
   "metadata": {},
   "outputs": [
    {
     "name": "stdout",
     "output_type": "stream",
     "text": [
      "+--------+-----+\n",
      "|prodname|price|\n",
      "+--------+-----+\n",
      "|매운쫄면| 5500|\n",
      "|쿵떡파이| 2600|\n",
      "+--------+-----+\n",
      "\n"
     ]
    }
   ],
   "source": [
    "ordrprod.filter(ordrprod.userid == 'carrot')\\\n",
    ".select('prodname', 'price').show()"
   ]
  },
  {
   "cell_type": "code",
   "execution_count": 34,
   "id": "e382745d-49de-49f5-aace-3fdfde19cd83",
   "metadata": {},
   "outputs": [
    {
     "name": "stdout",
     "output_type": "stream",
     "text": [
      "+------+-------+------+------+---------------+----------+------+----+------+------+-----+\n",
      "|userid|orderid|prodid|amount|           addr|   orddate|  name| age| grade|   job|coins|\n",
      "+------+-------+------+------+---------------+----------+------+----+------+------+-----+\n",
      "| apple|    o01|   p03|    10|  서울시 마포구|2013-01-01|정소화|  20|  gold|  학생| 1000|\n",
      "| apple|    o07|   p03|    22|서울시 영등포구|2013-03-15|정소화|  20|  gold|  학생| 1000|\n",
      "|banana|    o03|   p06|    45|  경기도 부천시|2013-01-11|김선우|  25|   vip|간호사| 2500|\n",
      "|banana|    o06|   p01|    19|충청북도 보은군|2013-03-02|김선우|  25|   vip|간호사| 2500|\n",
      "|banana|    o09|   p04|    15|전라남도 목포시|2013-04-11|김선우|  25|   vip|간호사| 2500|\n",
      "|carrot|    o04|   p02|     8|  부산시 금정구|2013-02-01|고명석|  28|  gold|  교사| 4500|\n",
      "|carrot|    o10|   p03|    20|  경기도 안양시|2013-05-22|고명석|  28|  gold|  교사| 4500|\n",
      "| melon|    o02|   p01|     5|  인천시 계양구|2013-01-10|성원용|  35|  gold|회사원| 5000|\n",
      "| melon|    o05|   p06|    36|  경기도 용인시|2013-02-20|성원용|  35|  gold|회사원| 5000|\n",
      "|orange|   null|  null|  null|           null|      null|김용욱|  22|silver|  학생|    0|\n",
      "| peach|   null|  null|  null|           null|      null|오형준|null|silver|  의사|  300|\n",
      "|  pear|    o08|   p02|    50|  강원도 춘천시|2013-04-10|채광주|  31|silver|회사원|  500|\n",
      "+------+-------+------+------+---------------+----------+------+----+------+------+-----+\n",
      "\n"
     ]
    }
   ],
   "source": [
    "# 주문을 한번도 하지 않은 고객의 이름, 등급을 조회하세요\n",
    "ordrcust = ordr.join(cust, 'userid', 'outer')\n",
    "ordrcust.show()"
   ]
  },
  {
   "cell_type": "code",
   "execution_count": 36,
   "id": "44156902-0668-4280-9cbd-d2e99a819b4b",
   "metadata": {},
   "outputs": [
    {
     "name": "stdout",
     "output_type": "stream",
     "text": [
      "+------+------+------+\n",
      "|userid|  name| grade|\n",
      "+------+------+------+\n",
      "|orange|김용욱|silver|\n",
      "| peach|오형준|silver|\n",
      "+------+------+------+\n",
      "\n"
     ]
    }
   ],
   "source": [
    "ordrcust.filter(ordrcust.orderid.isNull())\\\n",
    ".select('userid','name','grade').show()"
   ]
  },
  {
   "cell_type": "code",
   "execution_count": 37,
   "id": "29a70083-191f-4aae-823e-14931955e7af",
   "metadata": {},
   "outputs": [
    {
     "name": "stdout",
     "output_type": "stream",
     "text": [
      "+------+-------+------+------+---------------+----------+----------+-----+-----+--------+\n",
      "|prodid|orderid|userid|amount|           addr|   orddate|  prodname|stock|price|   maker|\n",
      "+------+-------+------+------+---------------+----------+----------+-----+-----+--------+\n",
      "|   p01|    o02| melon|     5|  인천시 계양구|2013-01-10|  그냥만두| 5000| 4500|대한식품|\n",
      "|   p01|    o06|banana|    19|충청북도 보은군|2013-03-02|  그냥만두| 5000| 4500|대한식품|\n",
      "|   p02|    o04|carrot|     8|  부산시 금정구|2013-02-01|  매운쫄면| 2500| 5500|민국푸드|\n",
      "|   p02|    o08|  pear|    50|  강원도 춘천시|2013-04-10|  매운쫄면| 2500| 5500|민국푸드|\n",
      "|   p03|    o01| apple|    10|  서울시 마포구|2013-01-01|  쿵떡파이| 3600| 2600|한빛제과|\n",
      "|   p03|    o07| apple|    22|서울시 영등포구|2013-03-15|  쿵떡파이| 3600| 2600|한빛제과|\n",
      "|   p03|    o10|carrot|    20|  경기도 안양시|2013-05-22|  쿵떡파이| 3600| 2600|한빛제과|\n",
      "|   p04|    o09|banana|    15|전라남도 목포시|2013-04-11|맛난초콜렛| 1250| 2500|한빛제과|\n",
      "|   p05|   null|  null|  null|           null|      null|  얼큰라면| 2200| 1200|대한식품|\n",
      "|   p06|    o03|banana|    45|  경기도 부천시|2013-01-11|  통통우동| 1000| 1550|민국푸드|\n",
      "|   p06|    o05| melon|    36|  경기도 용인시|2013-02-20|  통통우동| 1000| 1550|민국푸드|\n",
      "|   p07|   null|  null|  null|           null|      null|달콤비스켓| 1650| 1500|한빛제과|\n",
      "+------+-------+------+------+---------------+----------+----------+-----+-----+--------+\n",
      "\n"
     ]
    }
   ],
   "source": [
    "# 주문이 한번도 되지 않은 제품이름, 제조업체를 조회하세요\n",
    "ordrprod = ordr.join(prod, 'prodid', 'outer')\n",
    "ordrprod.show()"
   ]
  },
  {
   "cell_type": "code",
   "execution_count": 39,
   "id": "65cfb5dc-7906-46da-b2f6-1b154e267220",
   "metadata": {
    "jupyter": {
     "source_hidden": true
    },
    "tags": []
   },
   "outputs": [
    {
     "name": "stdout",
     "output_type": "stream",
     "text": [
      "+----------+--------+\n",
      "|  prodname|   maker|\n",
      "+----------+--------+\n",
      "|  얼큰라면|대한식품|\n",
      "|달콤비스켓|한빛제과|\n",
      "+----------+--------+\n",
      "\n"
     ]
    }
   ],
   "source": [
    "ordrprod.filter(ordrprod.orderid.isNull())\\\n",
    ".select('prodname', 'maker').show()"
   ]
  },
  {
   "cell_type": "code",
   "execution_count": 40,
   "id": "fb8242d9-2404-4650-98a0-6358d119265e",
   "metadata": {},
   "outputs": [
    {
     "name": "stdout",
     "output_type": "stream",
     "text": [
      "+------+------+-------+------+---------------+----------+------+----+------+------+-----+--------+-----+-----+--------+\n",
      "|prodid|userid|orderid|amount|           addr|   orddate|  name| age| grade|   job|coins|prodname|stock|price|   maker|\n",
      "+------+------+-------+------+---------------+----------+------+----+------+------+-----+--------+-----+-----+--------+\n",
      "|  null|orange|   null|  null|           null|      null|김용욱|  22|silver|  학생|    0|    null| null| null|    null|\n",
      "|  null| peach|   null|  null|           null|      null|오형준|null|silver|  의사|  300|    null| null| null|    null|\n",
      "|   p01|banana|    o06|    19|충청북도 보은군|2013-03-02|김선우|  25|   vip|간호사| 2500|그냥만두| 5000| 4500|대한식품|\n",
      "|   p01| melon|    o02|     5|  인천시 계양구|2013-01-10|성원용|  35|  gold|회사원| 5000|그냥만두| 5000| 4500|대한식품|\n",
      "|   p02|carrot|    o04|     8|  부산시 금정구|2013-02-01|고명석|  28|  gold|  교사| 4500|매운쫄면| 2500| 5500|민국푸드|\n",
      "+------+------+-------+------+---------------+----------+------+----+------+------+-----+--------+-----+-----+--------+\n",
      "only showing top 5 rows\n",
      "\n"
     ]
    }
   ],
   "source": [
    "# 테이블 3개 조인하기\n",
    "ordrcustprod = ordrcust.join(prod, 'prodid', 'outer')\n",
    "ordrcustprod.show(5)\n",
    "                              "
   ]
  }
 ],
 "metadata": {
  "kernelspec": {
   "display_name": "Python 3",
   "language": "python",
   "name": "python3"
  },
  "language_info": {
   "codemirror_mode": {
    "name": "ipython",
    "version": 3
   },
   "file_extension": ".py",
   "mimetype": "text/x-python",
   "name": "python",
   "nbconvert_exporter": "python",
   "pygments_lexer": "ipython3",
   "version": "3.8.12"
  }
 },
 "nbformat": 4,
 "nbformat_minor": 5
}
